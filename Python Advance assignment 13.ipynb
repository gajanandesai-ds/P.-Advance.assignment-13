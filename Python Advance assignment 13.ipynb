{
 "cells": [
  {
   "cell_type": "raw",
   "id": "fb5cf49f",
   "metadata": {},
   "source": [
    "Q1. Can you create a programme or function that employs both positive and negative indexing? Is\n",
    "there any repercussion if you do so?"
   ]
  },
  {
   "cell_type": "code",
   "execution_count": 1,
   "id": "739058c0",
   "metadata": {},
   "outputs": [
    {
     "name": "stdout",
     "output_type": "stream",
     "text": [
      "g\n",
      "i\n"
     ]
    }
   ],
   "source": [
    "def gajanan():\n",
    "    greetings = \"gajanan desai\"\n",
    "    print(greetings[0])\n",
    "    print(greetings[-1])\n",
    "gajanan()"
   ]
  },
  {
   "cell_type": "code",
   "execution_count": null,
   "id": "b8115bb9",
   "metadata": {},
   "outputs": [],
   "source": []
  },
  {
   "cell_type": "code",
   "execution_count": null,
   "id": "4b656aa5",
   "metadata": {},
   "outputs": [],
   "source": []
  },
  {
   "cell_type": "raw",
   "id": "51c25187",
   "metadata": {},
   "source": [
    "Q2. What is the most effective way of starting with 1,000 elements in a Python list? Assume that all\n",
    "elements should be set to the same value."
   ]
  },
  {
   "cell_type": "code",
   "execution_count": 1,
   "id": "e27a7556",
   "metadata": {},
   "outputs": [
    {
     "ename": "NameError",
     "evalue": "name 'listComprensionTime' is not defined",
     "output_type": "error",
     "traceback": [
      "\u001b[0;31m---------------------------------------------------------------------------\u001b[0m",
      "\u001b[0;31mNameError\u001b[0m                                 Traceback (most recent call last)",
      "\u001b[0;32m<ipython-input-1-40db5e704ac6>\u001b[0m in \u001b[0;36m<module>\u001b[0;34m\u001b[0m\n\u001b[1;32m     23\u001b[0m     \u001b[0ma\u001b[0m\u001b[0;34m=\u001b[0m \u001b[0;34m[\u001b[0m\u001b[0;36m0\u001b[0m \u001b[0;32mfor\u001b[0m \u001b[0mi\u001b[0m \u001b[0;32min\u001b[0m \u001b[0mrange\u001b[0m\u001b[0;34m(\u001b[0m\u001b[0;36m10000\u001b[0m\u001b[0;34m)\u001b[0m\u001b[0;34m]\u001b[0m\u001b[0;34m\u001b[0m\u001b[0;34m\u001b[0m\u001b[0m\n\u001b[1;32m     24\u001b[0m     \u001b[0mstop\u001b[0m \u001b[0;34m=\u001b[0m \u001b[0mtime\u001b[0m\u001b[0;34m.\u001b[0m\u001b[0mtime\u001b[0m\u001b[0;34m(\u001b[0m\u001b[0;34m)\u001b[0m\u001b[0;34m\u001b[0m\u001b[0;34m\u001b[0m\u001b[0m\n\u001b[0;32m---> 25\u001b[0;31m     \u001b[0mlistComprensionTime\u001b[0m\u001b[0;34m.\u001b[0m\u001b[0mappend\u001b[0m\u001b[0;34m(\u001b[0m\u001b[0mstop\u001b[0m\u001b[0;34m-\u001b[0m\u001b[0mstrat\u001b[0m\u001b[0;34m)\u001b[0m\u001b[0;34m\u001b[0m\u001b[0;34m\u001b[0m\u001b[0m\n\u001b[0m\u001b[1;32m     26\u001b[0m \u001b[0;34m\u001b[0m\u001b[0m\n\u001b[1;32m     27\u001b[0m     \u001b[0mstart\u001b[0m \u001b[0;34m=\u001b[0m \u001b[0mtime\u001b[0m\u001b[0;34m.\u001b[0m\u001b[0mtime\u001b[0m\u001b[0;34m(\u001b[0m\u001b[0;34m)\u001b[0m\u001b[0;34m\u001b[0m\u001b[0;34m\u001b[0m\u001b[0m\n",
      "\u001b[0;31mNameError\u001b[0m: name 'listComprensionTime' is not defined"
     ]
    }
   ],
   "source": [
    "import time\n",
    "forLoopTime = []\n",
    "whileLoopTime = []\n",
    "listComprehensionTime = []\n",
    "starOperatorTime = []\n",
    "\n",
    "for k in range(500):\n",
    "    strat = time.time()\n",
    "    a=[]\n",
    "    for i in range(10000):\n",
    "        a.append(0)\n",
    "        \n",
    "    stop = time.time()\n",
    "    forLoopTime.append(stop-strat)\n",
    "    start= time.time()\n",
    "    a=[]\n",
    "    i=0\n",
    "    \n",
    "    while(i<10000):\n",
    "        a.append(0)\n",
    "        i+=1\n",
    "    stop = time.time()\n",
    "    a= [0 for i in range(10000)]\n",
    "    stop = time.time()\n",
    "    listComprensionTime.append(stop-strat)\n",
    "    \n",
    "    start = time.time()\n",
    "    a= [0]*10000\n",
    "    stop = time.time()\n",
    "    stratOperatorTime.append(stop-strat)\n",
    "    \n",
    "print(\"Average time taken by for loop: \" + str(sum(forLoopTime)/100))\n",
    "\n",
    "print(\"Average time taken by while loop:\" + str(sum(whileLoopTime)/100))\n",
    "      \n",
    "print(\"Average time taken by list comprehensions:\" + str(sum(listComprehensionTime)/100))\n",
    "      \n",
    "print(\"Average time taken by*operator:\" + str(sum(starOperatorTime)/100))"
   ]
  },
  {
   "cell_type": "code",
   "execution_count": null,
   "id": "17871867",
   "metadata": {},
   "outputs": [],
   "source": []
  },
  {
   "cell_type": "code",
   "execution_count": null,
   "id": "e6600d94",
   "metadata": {},
   "outputs": [],
   "source": []
  },
  {
   "cell_type": "raw",
   "id": "57a936d5",
   "metadata": {},
   "source": [
    "Q3. How do you slice a list to get any other part while missing the rest? (For example, suppose you\n",
    "want to make a new list with the elements first, third, fifth, seventh, and so on.)"
   ]
  },
  {
   "cell_type": "code",
   "execution_count": 2,
   "id": "5cb99f4e",
   "metadata": {},
   "outputs": [
    {
     "name": "stdout",
     "output_type": "stream",
     "text": [
      "[1, 3, 5, 7, 9, 11]\n"
     ]
    }
   ],
   "source": [
    "a = [1,2,3,4,5,6,7,8,9,20,11,12]\n",
    "print(a[::2])"
   ]
  },
  {
   "cell_type": "code",
   "execution_count": null,
   "id": "95abf1aa",
   "metadata": {},
   "outputs": [],
   "source": []
  },
  {
   "cell_type": "code",
   "execution_count": null,
   "id": "009ef56f",
   "metadata": {},
   "outputs": [],
   "source": []
  },
  {
   "cell_type": "raw",
   "id": "819624c2",
   "metadata": {},
   "source": [
    "Q4. Explain the distinctions between indexing and slicing."
   ]
  },
  {
   "cell_type": "raw",
   "id": "a516de81",
   "metadata": {},
   "source": [
    "ans: \"indexing\" means referring to an element of an iterable by its positiion within the iterable,\"slicing\" means geeting a subset of elements from an iterable based on their indices."
   ]
  },
  {
   "cell_type": "code",
   "execution_count": null,
   "id": "a6104308",
   "metadata": {},
   "outputs": [],
   "source": []
  },
  {
   "cell_type": "code",
   "execution_count": null,
   "id": "77235bf0",
   "metadata": {},
   "outputs": [],
   "source": []
  },
  {
   "cell_type": "raw",
   "id": "86e870f9",
   "metadata": {},
   "source": [
    "Q5. What happens if one of the slicing expression&#39;s indexes is out of range?"
   ]
  },
  {
   "cell_type": "code",
   "execution_count": 3,
   "id": "8348bffe",
   "metadata": {},
   "outputs": [
    {
     "name": "stdout",
     "output_type": "stream",
     "text": [
      "[]\n"
     ]
    }
   ],
   "source": [
    "v = [1,2,3,4,5,6,7,8,9,10,11,12,13,14]\n",
    "print(v[34:44:11])"
   ]
  },
  {
   "cell_type": "code",
   "execution_count": null,
   "id": "4eb35df1",
   "metadata": {},
   "outputs": [],
   "source": []
  },
  {
   "cell_type": "code",
   "execution_count": null,
   "id": "e2dab471",
   "metadata": {},
   "outputs": [],
   "source": []
  },
  {
   "cell_type": "raw",
   "id": "c1ca637f",
   "metadata": {},
   "source": [
    "Q6. If you pass a list to a function, and if you want the function to be able to change the values of the\n",
    "list—so that the list is different after the function returns—what action should you avoid?"
   ]
  },
  {
   "cell_type": "raw",
   "id": "780d08bd",
   "metadata": {},
   "source": [
    "ans: The list will change list are mutable but we can also prevent that by creating a eepcopy of it before."
   ]
  },
  {
   "cell_type": "code",
   "execution_count": null,
   "id": "c93c2543",
   "metadata": {},
   "outputs": [],
   "source": []
  },
  {
   "cell_type": "code",
   "execution_count": null,
   "id": "d5a22ed7",
   "metadata": {},
   "outputs": [],
   "source": []
  },
  {
   "cell_type": "raw",
   "id": "3be8dc7f",
   "metadata": {},
   "source": [
    "Q7. What is the concept of an unbalanced matrix?"
   ]
  },
  {
   "cell_type": "raw",
   "id": "244b541b",
   "metadata": {},
   "source": [
    "ans: A matrix is balanced if all cells in the matrix are balanced and a cell of the matrx is balanced if the number of cells in that matrix that are adjacent to that cell is strictly greater than the value written in this cell.\n",
    "\n",
    "input: N = 3, M=3\n",
    "mat[][]={{1,2,3},\n",
    "{4,5,6},\n",
    "{7,8,9}}\n",
    "output:unbalanced\n",
    "\n"
   ]
  },
  {
   "cell_type": "code",
   "execution_count": null,
   "id": "76ed266e",
   "metadata": {},
   "outputs": [],
   "source": []
  },
  {
   "cell_type": "code",
   "execution_count": null,
   "id": "82d1c1d0",
   "metadata": {},
   "outputs": [],
   "source": []
  },
  {
   "cell_type": "raw",
   "id": "3276a593",
   "metadata": {},
   "source": [
    "Q8. Why is it necessary to use either list comprehension or a loop to create arbitrarily large matrices?"
   ]
  },
  {
   "cell_type": "raw",
   "id": "4f052fc5",
   "metadata": {},
   "source": [
    "ans: list comprehension or a loop specifically list comrehension can simply our code, but if you put too much logic inside, they will instread become harder to read and understand. loop specifically are also fast as we have seen in previous questions using time."
   ]
  },
  {
   "cell_type": "code",
   "execution_count": null,
   "id": "aea2576b",
   "metadata": {},
   "outputs": [],
   "source": []
  },
  {
   "cell_type": "code",
   "execution_count": null,
   "id": "b380592b",
   "metadata": {},
   "outputs": [],
   "source": []
  },
  {
   "cell_type": "code",
   "execution_count": null,
   "id": "34d824ce",
   "metadata": {},
   "outputs": [],
   "source": []
  }
 ],
 "metadata": {
  "kernelspec": {
   "display_name": "Python 3",
   "language": "python",
   "name": "python3"
  },
  "language_info": {
   "codemirror_mode": {
    "name": "ipython",
    "version": 3
   },
   "file_extension": ".py",
   "mimetype": "text/x-python",
   "name": "python",
   "nbconvert_exporter": "python",
   "pygments_lexer": "ipython3",
   "version": "3.8.8"
  }
 },
 "nbformat": 4,
 "nbformat_minor": 5
}
